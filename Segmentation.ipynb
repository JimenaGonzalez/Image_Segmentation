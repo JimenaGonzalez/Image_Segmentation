{
 "cells": [
  {
   "cell_type": "code",
   "execution_count": 1,
   "id": "568eaf3f",
   "metadata": {},
   "outputs": [],
   "source": [
    "script = False\n",
    "cluster = False\n",
    "\n",
    "import numpy as np\n",
    "import pandas as pd\n",
    "\n",
    "import torch\n",
    "import torch.nn as nn\n",
    "import torchvision.transforms as transforms\n",
    "from torch.utils.data import Dataset, DataLoader\n",
    "import timm\n",
    "\n",
    "import segmentation_models_pytorch as smp\n",
    "\n",
    "import seaborn as sn\n",
    "from sklearn.metrics import roc_curve\n",
    "from sklearn.metrics import roc_auc_score\n",
    "from sklearn.metrics import confusion_matrix\n",
    "from sklearn.metrics import ConfusionMatrixDisplay\n",
    "from sklearn.model_selection import train_test_split\n",
    "\n",
    "from PIL import Image, ImageOps\n",
    "import cv2\n",
    "\n",
    "#from transformers import ViTFeatureExtractor, ViTForImageClassification\n",
    "\n",
    "from memory_profiler import memory_usage\n",
    "import random\n",
    "import os\n",
    "import gc\n",
    "from astropy.io import fits\n",
    "\n",
    "from skimage import io\n",
    "import matplotlib.pyplot as plt\n",
    "import matplotlib.ticker as plticker\n",
    "\n",
    "if(script):\n",
    "    from tqdm import tqdm\n",
    "else: \n",
    "    from tqdm.notebook import tqdm\n",
    "\n",
    "from astropy.visualization import make_lupton_rgb\n",
    "plt.style.use('dark_background')"
   ]
  },
  {
   "cell_type": "code",
   "execution_count": 2,
   "id": "459bd466",
   "metadata": {},
   "outputs": [],
   "source": [
    "def seed_everything(seed):\n",
    "    \"\"\"\n",
    "    Seeds basic parameters for reproductibility of results\n",
    "    Arguments:\n",
    "        seed {int} -- Number of the seed\n",
    "    \"\"\"\n",
    "    random.seed(seed)\n",
    "    os.environ[\"PYTHONHASHSEED\"] = str(seed)\n",
    "    np.random.seed(seed)\n",
    "    torch.manual_seed(seed)\n",
    "    torch.cuda.manual_seed(seed)\n",
    "    torch.backends.cudnn.deterministic = True\n",
    "    torch.backends.cudnn.benchmark = False"
   ]
  },
  {
   "cell_type": "code",
   "execution_count": 3,
   "id": "684b61b8",
   "metadata": {},
   "outputs": [],
   "source": [
    "class ImageDataset(Dataset):\n",
    "    \"\"\"Dataset of Images, Data and Labels\"\"\"\n",
    "\n",
    "    def __init__(self, images, data, labels, transform=None):\n",
    "        \"\"\"\n",
    "        Create a PyTorch dataset from an array of images\n",
    "\t\tand an array of labels\n",
    "        \"\"\"\n",
    "        super().__init__()\n",
    "        self.images = images\n",
    "        self.data = data\n",
    "        self.labels = labels\n",
    "        self.transform = transform\n",
    "\n",
    "    def __len__(self):\n",
    "        return len(self.labels)\n",
    "\n",
    "    def __getitem__(self, idx):\n",
    "        #return python image given the index\n",
    "        image = self.images[idx]\n",
    "        \"\"\"\n",
    "        #Plotting with Astropy and saving as png (not used right now)\n",
    "        print('Astropy')\n",
    "        rgb = make_lupton_rgb(image[2], image[1], image[0], Q=11., stretch=40.)\n",
    "        plt.imshow(rgb, aspect='equal')\n",
    "        plt.savefig('Image.png', bbox_inches='tight')\n",
    "        plt.close()\n",
    "        new_image = Image.open('Image.png')\n",
    "        return(new_image)\n",
    "        \"\"\"\n",
    "        #new_image = np.empty((3, 46, 46)) #I NEED TO CHANGE MY IMAGE SIZES!!!!!!\n",
    "        new_image = np.empty((3, 45, 45))\n",
    "        new_image[0], new_image[1], new_image[2] =  self.normalize_image(image)\n",
    "        new_image = new_image.transpose(1,2,0)\n",
    "        new_image = Image.fromarray(np.uint8(new_image)).convert(\"RGB\")\n",
    "        new_image = self.transform(new_image)\n",
    "        \n",
    "        transform_label = transforms.Compose([ transforms.Resize((96, 96)), transforms.ToTensor()])\n",
    "        label = self.labels[idx]\n",
    "        label = cv2.resize(label, (96, 96), interpolation=cv2.INTER_NEAREST)\n",
    "        label = torch.from_numpy(label)[None, :]\n",
    "        #label = Image.fromarray(np.uint8(label))#.convert(\"RGB\")\n",
    "        #label = transform_label(label)\n",
    "        \n",
    "        data_point = self.data.iloc[idx].to_dict()\n",
    "                                \n",
    "        sample = {'image': new_image, 'label': label, 'img': image, 'data': data_point}\n",
    "        return sample\n",
    "    \n",
    "    def normalize_image(self, image):\n",
    "        image_g = (image[0]-np.mean(image[0]))/ np.std(image[0])\n",
    "        image_r = (image[1]-np.mean(image[1]))/ np.std(image[1])\n",
    "        image_i = (image[2]-np.mean(image[2]))/ np.std(image[2])\n",
    "\n",
    "        image_g = (image_g-np.min(image_g))/ (np.max(image_g) - np.min(image_g))\n",
    "        image_r = (image_r-np.min(image_r))/ (np.max(image_r) - np.min(image_r))\n",
    "        image_i = (image_i-np.min(image_i))/ (np.max(image_i) - np.min(image_i))\n",
    "        return(image_i, image_r, image_g)\n",
    "    \n",
    "    def plot_image(self, idx):\n",
    "        image = images[idx]\n",
    "        new_image = np.empty((3, 45, 45))\n",
    "        new_image[0], new_image[1], new_image[2] =  self.normalize_image(image)\n",
    "        new_image = new_image.transpose(1,2,0)\n",
    "        new_image = Image.fromarray(np.uint8(255*new_image)).convert(\"RGB\")\n",
    "        #new_image = Image.fromarray(np.uint16(255*new_image)).convert(\"RGB\")\n",
    "        \n",
    "        plt.figure(figsize=(12,4)) \n",
    "        \n",
    "        plt.subplot(1,2,1)\n",
    "        plt.imshow(np.asarray(new_image))\n",
    "        plt.axis('off')\n",
    "        \n",
    "        plt.subplot(1,2,2)\n",
    "        rgb = make_lupton_rgb(image[2], image[1], image[0], Q=11., stretch=40.)\n",
    "        plt.imshow(rgb, aspect='equal')\n",
    "        plt.axis('off')\n",
    "        \n",
    "        plt.show()"
   ]
  },
  {
   "cell_type": "code",
   "execution_count": 4,
   "id": "b39e738e",
   "metadata": {},
   "outputs": [],
   "source": [
    "def make_train_test_datasets(images, data, labels, test_size=0.2, transform=None):\n",
    "    \"\"\"\n",
    "\tMake training and testing datasets\n",
    "\t\n",
    "\tArgs:\n",
    "\t    images: 3D array of all images\n",
    "        labels: 1D array of the labels for each image\n",
    "        test_size: the fraction of the images to use as the test dataset\n",
    "\t\ttransform: the PyTorch transformation to apply to the data\n",
    "\t\t\n",
    "\tReturns\n",
    "\t    train_dataset: An instance of the ImageDataset Class for training\n",
    "\t\ttest_dataset: An instance of the ImageDataset Class for testing\n",
    "\t\"\"\"\n",
    "\n",
    "    # Shuffle and split data\n",
    "    #y = labels\n",
    "    train_images, test_images, train_data, test_data, train_labels, test_labels = train_test_split(\n",
    "        images, data, labels, test_size=test_size, random_state=6)\n",
    "    \n",
    "    # Create a PyTorch Dataset\n",
    "    return (ImageDataset(train_images, train_data, train_labels, transform=transform),\n",
    "            ImageDataset(test_images, test_data, test_labels, transform=transform))"
   ]
  },
  {
   "cell_type": "code",
   "execution_count": 5,
   "id": "f0ba4b6f",
   "metadata": {},
   "outputs": [
    {
     "name": "stdout",
     "output_type": "stream",
     "text": [
      "(1000, 3, 45, 45) (1000, 45, 45)\n"
     ]
    }
   ],
   "source": [
    "seed_everything(9)\n",
    "\n",
    "if(cluster):\n",
    "    path = '/data/des90.a/data/sgonzal/training_data/' #DES cluster\n",
    "    path = 'Data/' #CHTC\n",
    "else:\n",
    "    path = '' #local\n",
    "    \n",
    "\n",
    "npos = 1000\n",
    "\n",
    "num_workers = 0\n",
    "num_epochs = 20\n",
    "\n",
    "\n",
    "hdu_list = fits.open(path + 'labeled_file.fits')\n",
    "idx = random.sample(range(len(hdu_list[1].data)), npos)\n",
    "images = hdu_list[2].data[idx,:] \n",
    "images = images.astype(np.float32)\n",
    "labels = hdu_list[4].data[idx,:] \n",
    "#labels = labels.astype('int32')\n",
    "labels = labels.astype(np.float32)\n",
    "data = pd.DataFrame(hdu_list[6].data[:][idx])\n",
    "data = data.drop('TILENAME', axis=1)\n",
    "hdu_list.close()\n",
    "\n",
    "transform = transforms.Compose([\n",
    "            transforms.Resize((96, 96)),\n",
    "            transforms.ToTensor(),\n",
    "            transforms.Normalize((0.485, 0.456, 0.406), (0.229, 0.224, 0.225))])\n",
    "\n",
    "print(images.shape, labels.shape)\n"
   ]
  },
  {
   "cell_type": "code",
   "execution_count": 6,
   "id": "b1a3189f",
   "metadata": {},
   "outputs": [],
   "source": [
    "def make_graphs(name, sim_i, sim_r, sim_g, label):\n",
    "    loc = plticker.MultipleLocator(base=3.75)\n",
    "    fig, (ax1, ax2) = plt.subplots(figsize=(15, 4), ncols=2)\n",
    "\n",
    "    rgb = make_lupton_rgb(sim_i, sim_r, sim_g, Q=11., stretch=40.)\n",
    "    ax1.set_title('Image')\n",
    "    ax1.xaxis.set_ticklabels([])\n",
    "    ax1.yaxis.set_ticklabels([])\n",
    "    original = ax1.imshow(rgb, aspect='equal')\n",
    "    \n",
    "    img3 = ax2.imshow(label)\n",
    "    ax2.set_title('Mask')\n",
    "    plt.colorbar(img3, ax=ax2)\n",
    "    #ax2.axis('off')\n",
    "   \n",
    "    sub_path = '/Users/jimenagonzalez/research/DSPL/Simulations-Double-Source-Gravitational-Lensing/'\n",
    "    #plt.savefig(sub_path + 'Data/Sim_complete/Image' + name + '.png', bbox_inches='tight')\n",
    "    plt.show()"
   ]
  },
  {
   "cell_type": "code",
   "execution_count": 7,
   "id": "828145ec",
   "metadata": {},
   "outputs": [
    {
     "data": {
      "image/png": "[encoded data removed]",
      "text/plain": [
       "<Figure size 1500x400 with 3 Axes>"
      ]
     },
     "metadata": {},
     "output_type": "display_data"
    }
   ],
   "source": [
    "make_graphs('name', images[0][2], images[0][1], images[0][0], labels[0])"
   ]
  },
  {
   "cell_type": "code",
   "execution_count": 8,
   "id": "1080b66c",
   "metadata": {},
   "outputs": [
    {
     "name": "stdout",
     "output_type": "stream",
     "text": [
      "Len train dataset: 700, len test dataset: 150\n"
     ]
    }
   ],
   "source": [
    "train_dataset, other_dataset = make_train_test_datasets(images, data, labels, test_size=0.3, transform=transform)\n",
    "valid_dataset, test_dataset = make_train_test_datasets(other_dataset.images, other_dataset.data, other_dataset.labels, test_size=0.5, transform=transform)\n",
    "print('Len train dataset: {}, len test dataset: {}'.format(len(train_dataset), len(test_dataset)))"
   ]
  },
  {
   "cell_type": "code",
   "execution_count": 9,
   "id": "a3061db0",
   "metadata": {},
   "outputs": [],
   "source": [
    "train_loader = torch.utils.data.DataLoader(dataset=train_dataset, batch_size=10, num_workers=num_workers, shuffle=True)\n",
    "valid_loader = torch.utils.data.DataLoader(dataset=valid_dataset, batch_size=5, num_workers=num_workers, shuffle=True)\n",
    "test_loader = torch.utils.data.DataLoader(dataset=test_dataset, batch_size=1, num_workers=num_workers, shuffle=True)\n",
    "torch.save(test_loader, 'test_loader.pth')"
   ]
  },
  {
   "cell_type": "code",
   "execution_count": 10,
   "id": "01310cf3",
   "metadata": {},
   "outputs": [],
   "source": [
    "class ViTBase16(nn.Module):\n",
    "    \n",
    "    def __init__(self, n_classes, pretrained=False):\n",
    "        \n",
    "        super(ViTBase16, self).__init__()\n",
    "        #self.model = smp.Unet(encoder_name=\"resnet34\", encoder_weights=\"imagenet\", in_channels=3, classes=1)\n",
    "        self.model = smp.Unet(encoder_name=\"resnet50\", encoder_weights=\"imagenet\", in_channels=3, classes=1)\n",
    "        \n",
    "        #self.model = timm.create_model(\"vit_base_patch16_224\", pretrained=True)\n",
    "        #self.model = timm.create_model(\"vit_base_patch16_224\")\n",
    "        #if(pretrained):\n",
    "        #    path = 'jx_vit_base_p16_224-80ecf9dd.pth'\n",
    "        #    self.model.load_state_dict(torch.load(path))\n",
    "\n",
    "        #self.model.head = nn.Linear(self.model.head.in_features, n_classes)\n",
    "\n",
    "    def forward(self, x):\n",
    "\n",
    "        x = self.model(x)\n",
    "\n",
    "        return x\n",
    "\n",
    "    def pseudo_accuracy(self, output, target):\n",
    "        output = torch.sigmoid(output)\n",
    "        num = target.size(0)\n",
    "        m1 = output.view(num, -1)  # Flatten\n",
    "        m2 = target.view(num, -1)  # Flatten\n",
    "        intersection = (m1 * m2).sum()#(dim=1)\n",
    "        #accu = intersection.item()*100/(96*96*num)\n",
    "        return(2. * intersection + 1.) / (m1.sum() + m2.sum() + 1.)\n",
    "        \n",
    "    \n",
    "    def train_one_epoch(self, train_loader, criterion, optimizer, device):\n",
    "        # keep track of training loss\n",
    "        epoch_loss = 0.0\n",
    "        epoch_accuracy = 0.0\n",
    "\n",
    "        ###################\n",
    "        # train the model #\n",
    "        ###################\n",
    "\n",
    "        self.model.train()\n",
    "\n",
    "        #for i, (data, target, sample_img, sample_data) in tqdm(enumerate(train_loader)):\n",
    "        for i, sample in enumerate(tqdm(train_loader)):\n",
    "\n",
    "            data, target, sample_img, sample_data = sample['image'], sample['label'] , sample['img'], sample['data']\n",
    "            \n",
    "            # move tensors to GPU if CUDA is available\n",
    "            if device.type == \"cuda\":\n",
    "                data, target = data.cuda(), target.cuda()\n",
    "\n",
    "            # clear the gradients of all optimized variables\n",
    "            optimizer.zero_grad()\n",
    "            # forward pass: compute predicted outputs by passing inputs to the model\n",
    "            output = self.forward(data)\n",
    "            #output = torch.squeeze(output)\n",
    "\n",
    "            #target = target.float()\n",
    "            # calculate the batch loss\n",
    "            loss = criterion(output, target)\n",
    "            # backward pass: compute gradient of the loss with respect to model parameters\n",
    "            loss.backward()\n",
    "            \n",
    "            # Calculate Accuracy\n",
    "            #accuracy = (output.argmax(dim=1) == target).float().mean()\n",
    "            accuracy = self.pseudo_accuracy(output, target)\n",
    "            # update training loss and accuracy\n",
    "            epoch_loss += loss\n",
    "            epoch_accuracy += accuracy\n",
    "\n",
    "            optimizer.step()\n",
    "\n",
    "        return epoch_loss / len(train_loader.dataset), epoch_accuracy / len(train_loader)\n",
    "\n",
    "    def validate_one_epoch(self, valid_loader, criterion, device):\n",
    "        # keep track of validation loss\n",
    "        valid_loss = 0.0\n",
    "        valid_accuracy = 0.0\n",
    "\n",
    "        ######################\n",
    "        # validate the model #\n",
    "        ######################\n",
    "        self.model.eval()\n",
    "        for i, sample in enumerate(tqdm(valid_loader)):\n",
    "            data, target, sample_img, sample_data = sample['image'], sample['label'] , sample['img'], sample['data']\n",
    "            \n",
    "            # move tensors to GPU if CUDA is available\n",
    "            if device.type == \"cuda\":\n",
    "                data, target = data.cuda(), target.cuda()\n",
    "\n",
    "            with torch.no_grad():\n",
    "                # forward pass: compute predicted outputs by passing inputs to the model\n",
    "                output = self.model(data)\n",
    "                # calculate the batch loss\n",
    "                loss = criterion(output, target)\n",
    "                # Calculate Accuracy\n",
    "                #accuracy = (output.argmax(dim=1) == target).float().mean()\n",
    "                #accuracy = sum(output.argmax(dim=1) == target)\n",
    "                accuracy = self.pseudo_accuracy(output, target)\n",
    "                # update average validation loss and accuracy\n",
    "                valid_loss += loss\n",
    "                valid_accuracy += accuracy\n",
    "\n",
    "        return valid_loss / len(valid_loader.dataset), valid_accuracy / len(valid_loader)\n",
    "    "
   ]
  },
  {
   "cell_type": "code",
   "execution_count": 11,
   "id": "1e5c52e0",
   "metadata": {},
   "outputs": [
    {
     "name": "stdout",
     "output_type": "stream",
     "text": [
      "cpu\n"
     ]
    }
   ],
   "source": [
    "model = ViTBase16(n_classes=9, pretrained=True)\n",
    "\n",
    "criterion = nn.BCEWithLogitsLoss() #nn.CrossEntropyLoss() #nn.BCELoss()\n",
    "device = torch.device(\"cuda\" if torch.cuda.is_available() else \"cpu\")\n",
    "print(device)\n",
    "model.to(device)\n",
    "\n",
    "learning_rate = 0.0001\n",
    "optimizer = torch.optim.Adam(model.parameters(), lr=learning_rate)\n"
   ]
  },
  {
   "cell_type": "code",
   "execution_count": 12,
   "id": "bec16e6d",
   "metadata": {},
   "outputs": [],
   "source": [
    "def fit_tpu(model, name_model, epochs, device, criterion, optimizer, train_loader, valid_loader=None):\n",
    "    \n",
    "    best_val_acc = 0.0 # track of best accuracy\n",
    "\n",
    "    # keeping track of losses as it happen\n",
    "    train_losses = []\n",
    "    valid_losses = []\n",
    "    train_accs = []\n",
    "    valid_accs = []\n",
    "\n",
    "    for epoch in range(1, epochs + 1):\n",
    "        gc.collect()\n",
    "        \n",
    "        print(f\"{'=' * 100}\")\n",
    "        print(f\"EPOCH {epoch} - TRAINING...\")\n",
    "        train_loss, train_acc = model.train_one_epoch(train_loader, criterion, optimizer, device)\n",
    "        print(f\"\\n\\t[TRAIN] EPOCH {epoch} - LOSS: {train_loss}, ACCURACY: {train_acc}\\n\")\n",
    "        train_losses.append(train_loss)\n",
    "        train_accs.append(train_acc)\n",
    "        gc.collect()\n",
    "\n",
    "        # moves towards valid_loader\n",
    "        print(\"start valid_loader\")\n",
    "\n",
    "        if valid_loader is not None:\n",
    "            gc.collect()\n",
    "            print(f\"EPOCH {epoch} - VALIDATING...\")\n",
    "            valid_loss, valid_acc = model.validate_one_epoch(valid_loader, criterion, device)\n",
    "            print(f\"\\t[VALID] LOSS: {valid_loss}, ACCURACY: {valid_acc}\\n\")\n",
    "            valid_losses.append(valid_loss)\n",
    "            valid_accs.append(valid_acc)\n",
    "            gc.collect()\n",
    "\n",
    "            if(valid_acc > best_val_acc):\n",
    "                setattr(model, 'loss_train', train_losses)\n",
    "                setattr(model, 'loss_valid', valid_losses)\n",
    "                setattr(model, 'train_acc', train_accs)\n",
    "                setattr(model, 'validation_acc', valid_accs)\n",
    "                torch.save(model, name_model)\n",
    "                best_val_acc = valid_acc\n",
    "                "
   ]
  },
  {
   "cell_type": "code",
   "execution_count": 13,
   "id": "e443a614",
   "metadata": {},
   "outputs": [],
   "source": [
    "def plot_performance(cnn):\n",
    "    loss_train = [x.item() for x in cnn.loss_train]\n",
    "    loss_valid = [x.item() for x in cnn.loss_valid]\n",
    "    train_acc = [x.item() for x in cnn.train_acc]\n",
    "    valid_acc = [x.item() for x in cnn.validation_acc]\n",
    "    \n",
    "    x = np.linspace(1,len(cnn.loss_train),len(cnn.loss_train))\n",
    "    fig, (ax1, ax2) = plt.subplots(figsize=(16, 7), ncols=2)\n",
    "    \n",
    "    ax1.set_title('Losses')\n",
    "    ax1.set_xlabel('Epoch')\n",
    "    ax1.scatter(x, loss_train, color = 'skyblue', alpha = 0.8, label = 'Training loss')\n",
    "    ax1.scatter(x, loss_valid, color = 'limegreen', alpha = 0.8,  label = 'Validation loss')\n",
    "    ax1.legend()\n",
    "    \n",
    "    ax2.set_title('Performance. Max: {:.4f}%'.format(100*cnn.validation_acc[-1].item()))\n",
    "    ax2.set_xlabel('Epoch')\n",
    "    ax2.scatter(x, train_acc, color = 'skyblue', alpha = 0.8,  label = 'Training Accuracy')\n",
    "    ax2.scatter(x, valid_acc, color = 'limegreen', alpha = 0.8,  label = 'Validation Accuracy')\n",
    "    ax2.legend()\n",
    "    \n",
    "    if(script):\n",
    "        plt.savefig('Performance.png', bbox_inches='tight')\n",
    "        plt.close()\n",
    "    else: \n",
    "        plt.show(block=True)\n",
    "    "
   ]
  },
  {
   "cell_type": "code",
   "execution_count": 14,
   "id": "7b3a9f33",
   "metadata": {
    "scrolled": true
   },
   "outputs": [
    {
     "name": "stdout",
     "output_type": "stream",
     "text": [
      "====================================================================================================\n",
      "EPOCH 1 - TRAINING...\n"
     ]
    },
    {
     "data": {
      "application/vnd.jupyter.widget-view+json": {
       "model_id": "3e9f48d4cad64ce98171563ba9281cbe",
       "version_major": 2,
       "version_minor": 0
      },
      "text/plain": [
       "  0%|          | 0/70 [00:00<?, ?it/s]"
      ]
     },
     "metadata": {},
     "output_type": "display_data"
    },
    {
     "name": "stdout",
     "output_type": "stream",
     "text": [
      "\n",
      "\t[TRAIN] EPOCH 1 - LOSS: 0.04572291672229767, ACCURACY: 0.3681011497974396\n",
      "\n",
      "start valid_loader\n",
      "EPOCH 1 - VALIDATING...\n"
     ]
    },
    {
     "data": {
      "application/vnd.jupyter.widget-view+json": {
       "model_id": "cb38ab5032af4360b279c24c8be5d40d",
       "version_major": 2,
       "version_minor": 0
      },
      "text/plain": [
       "  0%|          | 0/30 [00:00<?, ?it/s]"
      ]
     },
     "metadata": {},
     "output_type": "display_data"
    },
    {
     "name": "stdout",
     "output_type": "stream",
     "text": [
      "\t[VALID] LOSS: 0.08773845434188843, ACCURACY: 0.38387590646743774\n",
      "\n",
      "====================================================================================================\n",
      "EPOCH 2 - TRAINING...\n"
     ]
    },
    {
     "data": {
      "application/vnd.jupyter.widget-view+json": {
       "model_id": "56a112ed22db452281c71b99a357a56b",
       "version_major": 2,
       "version_minor": 0
      },
      "text/plain": [
       "  0%|          | 0/70 [00:00<?, ?it/s]"
      ]
     },
     "metadata": {},
     "output_type": "display_data"
    },
    {
     "name": "stdout",
     "output_type": "stream",
     "text": [
      "\n",
      "\t[TRAIN] EPOCH 2 - LOSS: 0.03756185621023178, ACCURACY: 0.4475782513618469\n",
      "\n",
      "start valid_loader\n",
      "EPOCH 2 - VALIDATING...\n"
     ]
    },
    {
     "data": {
      "application/vnd.jupyter.widget-view+json": {
       "model_id": "2715ffb90b2a48e58b5327ee2a789e20",
       "version_major": 2,
       "version_minor": 0
      },
      "text/plain": [
       "  0%|          | 0/30 [00:00<?, ?it/s]"
      ]
     },
     "metadata": {},
     "output_type": "display_data"
    },
    {
     "name": "stdout",
     "output_type": "stream",
     "text": [
      "\t[VALID] LOSS: 0.07246417552232742, ACCURACY: 0.43749743700027466\n",
      "\n",
      "====================================================================================================\n",
      "EPOCH 3 - TRAINING...\n"
     ]
    },
    {
     "data": {
      "application/vnd.jupyter.widget-view+json": {
       "model_id": "3a2a6320de9a4c8b9da38563fc4ac559",
       "version_major": 2,
       "version_minor": 0
      },
      "text/plain": [
       "  0%|          | 0/70 [00:00<?, ?it/s]"
      ]
     },
     "metadata": {},
     "output_type": "display_data"
    },
    {
     "name": "stdout",
     "output_type": "stream",
     "text": [
      "\n",
      "\t[TRAIN] EPOCH 3 - LOSS: 0.03515820950269699, ACCURACY: 0.4761596620082855\n",
      "\n",
      "start valid_loader\n",
      "EPOCH 3 - VALIDATING...\n"
     ]
    },
    {
     "data": {
      "application/vnd.jupyter.widget-view+json": {
       "model_id": "44bfaa366e92473d9aab171ed51d725b",
       "version_major": 2,
       "version_minor": 0
      },
      "text/plain": [
       "  0%|          | 0/30 [00:00<?, ?it/s]"
      ]
     },
     "metadata": {},
     "output_type": "display_data"
    },
    {
     "name": "stdout",
     "output_type": "stream",
     "text": [
      "\t[VALID] LOSS: 0.08628953993320465, ACCURACY: 0.40367621183395386\n",
      "\n",
      "====================================================================================================\n",
      "EPOCH 4 - TRAINING...\n"
     ]
    },
    {
     "data": {
      "application/vnd.jupyter.widget-view+json": {
       "model_id": "3cb71ceffedf477a88d4e701c9cb3b2b",
       "version_major": 2,
       "version_minor": 0
      },
      "text/plain": [
       "  0%|          | 0/70 [00:00<?, ?it/s]"
      ]
     },
     "metadata": {},
     "output_type": "display_data"
    },
    {
     "name": "stdout",
     "output_type": "stream",
     "text": [
      "\n",
      "\t[TRAIN] EPOCH 4 - LOSS: 0.03385526314377785, ACCURACY: 0.49160876870155334\n",
      "\n",
      "start valid_loader\n",
      "EPOCH 4 - VALIDATING...\n"
     ]
    },
    {
     "data": {
      "application/vnd.jupyter.widget-view+json": {
       "model_id": "4a58fa2410224854b750a02716e613c7",
       "version_major": 2,
       "version_minor": 0
      },
      "text/plain": [
       "  0%|          | 0/30 [00:00<?, ?it/s]"
      ]
     },
     "metadata": {},
     "output_type": "display_data"
    },
    {
     "name": "stdout",
     "output_type": "stream",
     "text": [
      "\t[VALID] LOSS: 0.08035183697938919, ACCURACY: 0.474862277507782\n",
      "\n",
      "====================================================================================================\n",
      "EPOCH 5 - TRAINING...\n"
     ]
    },
    {
     "data": {
      "application/vnd.jupyter.widget-view+json": {
       "model_id": "7b5541baa92a49b49fc409e838750e32",
       "version_major": 2,
       "version_minor": 0
      },
      "text/plain": [
       "  0%|          | 0/70 [00:00<?, ?it/s]"
      ]
     },
     "metadata": {},
     "output_type": "display_data"
    },
    {
     "name": "stdout",
     "output_type": "stream",
     "text": [
      "\n",
      "\t[TRAIN] EPOCH 5 - LOSS: 0.031836144626140594, ACCURACY: 0.5194026231765747\n",
      "\n",
      "start valid_loader\n",
      "EPOCH 5 - VALIDATING...\n"
     ]
    },
    {
     "data": {
      "application/vnd.jupyter.widget-view+json": {
       "model_id": "fa6d9862727749b08752b551e6193c9d",
       "version_major": 2,
       "version_minor": 0
      },
      "text/plain": [
       "  0%|          | 0/30 [00:00<?, ?it/s]"
      ]
     },
     "metadata": {},
     "output_type": "display_data"
    },
    {
     "name": "stdout",
     "output_type": "stream",
     "text": [
      "\t[VALID] LOSS: 0.08486112952232361, ACCURACY: 0.3935786783695221\n",
      "\n",
      "====================================================================================================\n",
      "EPOCH 6 - TRAINING...\n"
     ]
    },
    {
     "data": {
      "application/vnd.jupyter.widget-view+json": {
       "model_id": "4414812bca1a4d9da16ff96308c9d741",
       "version_major": 2,
       "version_minor": 0
      },
      "text/plain": [
       "  0%|          | 0/70 [00:00<?, ?it/s]"
      ]
     },
     "metadata": {},
     "output_type": "display_data"
    },
    {
     "name": "stdout",
     "output_type": "stream",
     "text": [
      "\n",
      "\t[TRAIN] EPOCH 6 - LOSS: 0.031074412167072296, ACCURACY: 0.5355476140975952\n",
      "\n",
      "start valid_loader\n",
      "EPOCH 6 - VALIDATING...\n"
     ]
    },
    {
     "data": {
      "application/vnd.jupyter.widget-view+json": {
       "model_id": "5ab475bf807a4eb9860e6597095bb3ea",
       "version_major": 2,
       "version_minor": 0
      },
      "text/plain": [
       "  0%|          | 0/30 [00:00<?, ?it/s]"
      ]
     },
     "metadata": {},
     "output_type": "display_data"
    },
    {
     "name": "stdout",
     "output_type": "stream",
     "text": [
      "\t[VALID] LOSS: 0.08686874806880951, ACCURACY: 0.3962334394454956\n",
      "\n",
      "====================================================================================================\n",
      "EPOCH 7 - TRAINING...\n"
     ]
    },
    {
     "data": {
      "application/vnd.jupyter.widget-view+json": {
       "model_id": "4e7dc1d7c931474f825a7ee97f47705a",
       "version_major": 2,
       "version_minor": 0
      },
      "text/plain": [
       "  0%|          | 0/70 [00:00<?, ?it/s]"
      ]
     },
     "metadata": {},
     "output_type": "display_data"
    },
    {
     "name": "stdout",
     "output_type": "stream",
     "text": [
      "\n",
      "\t[TRAIN] EPOCH 7 - LOSS: 0.030413635075092316, ACCURACY: 0.544154942035675\n",
      "\n",
      "start valid_loader\n",
      "EPOCH 7 - VALIDATING...\n"
     ]
    },
    {
     "data": {
      "application/vnd.jupyter.widget-view+json": {
       "model_id": "c5c72802ef174abfad63f3a93fb1d352",
       "version_major": 2,
       "version_minor": 0
      },
      "text/plain": [
       "  0%|          | 0/30 [00:00<?, ?it/s]"
      ]
     },
     "metadata": {},
     "output_type": "display_data"
    },
    {
     "name": "stdout",
     "output_type": "stream",
     "text": [
      "\t[VALID] LOSS: 0.09009493142366409, ACCURACY: 0.45858752727508545\n",
      "\n",
      "====================================================================================================\n",
      "EPOCH 8 - TRAINING...\n"
     ]
    },
    {
     "data": {
      "application/vnd.jupyter.widget-view+json": {
       "model_id": "e333605e6ee44bc194092fdd2c7173a1",
       "version_major": 2,
       "version_minor": 0
      },
      "text/plain": [
       "  0%|          | 0/70 [00:00<?, ?it/s]"
      ]
     },
     "metadata": {},
     "output_type": "display_data"
    },
    {
     "name": "stdout",
     "output_type": "stream",
     "text": [
      "\n",
      "\t[TRAIN] EPOCH 8 - LOSS: 0.030066659674048424, ACCURACY: 0.5508018732070923\n",
      "\n",
      "start valid_loader\n",
      "EPOCH 8 - VALIDATING...\n"
     ]
    },
    {
     "data": {
      "application/vnd.jupyter.widget-view+json": {
       "model_id": "0029c5fb81ee4d2ebe34af113f726c6c",
       "version_major": 2,
       "version_minor": 0
      },
      "text/plain": [
       "  0%|          | 0/30 [00:00<?, ?it/s]"
      ]
     },
     "metadata": {},
     "output_type": "display_data"
    },
    {
     "name": "stdout",
     "output_type": "stream",
     "text": [
      "\t[VALID] LOSS: 0.06972135603427887, ACCURACY: 0.5460821986198425\n",
      "\n",
      "====================================================================================================\n",
      "EPOCH 9 - TRAINING...\n"
     ]
    },
    {
     "data": {
      "application/vnd.jupyter.widget-view+json": {
       "model_id": "75c6b7494a0b4bf9ba11cdd7bbd4333e",
       "version_major": 2,
       "version_minor": 0
      },
      "text/plain": [
       "  0%|          | 0/70 [00:00<?, ?it/s]"
      ]
     },
     "metadata": {},
     "output_type": "display_data"
    },
    {
     "name": "stdout",
     "output_type": "stream",
     "text": [
      "\n",
      "\t[TRAIN] EPOCH 9 - LOSS: 0.029228292405605316, ACCURACY: 0.5638733506202698\n",
      "\n",
      "start valid_loader\n",
      "EPOCH 9 - VALIDATING...\n"
     ]
    },
    {
     "data": {
      "application/vnd.jupyter.widget-view+json": {
       "model_id": "b3ec78ded7fe42199c62cbc6a846a190",
       "version_major": 2,
       "version_minor": 0
      },
      "text/plain": [
       "  0%|          | 0/30 [00:00<?, ?it/s]"
      ]
     },
     "metadata": {},
     "output_type": "display_data"
    },
    {
     "name": "stdout",
     "output_type": "stream",
     "text": [
      "\t[VALID] LOSS: 0.08953671157360077, ACCURACY: 0.45146772265434265\n",
      "\n",
      "====================================================================================================\n",
      "EPOCH 10 - TRAINING...\n"
     ]
    },
    {
     "data": {
      "application/vnd.jupyter.widget-view+json": {
       "model_id": "a997353363a0405998767fccb65cf530",
       "version_major": 2,
       "version_minor": 0
      },
      "text/plain": [
       "  0%|          | 0/70 [00:00<?, ?it/s]"
      ]
     },
     "metadata": {},
     "output_type": "display_data"
    },
    {
     "name": "stdout",
     "output_type": "stream",
     "text": [
      "\n",
      "\t[TRAIN] EPOCH 10 - LOSS: 0.02914343774318695, ACCURACY: 0.5646690726280212\n",
      "\n",
      "start valid_loader\n",
      "EPOCH 10 - VALIDATING...\n"
     ]
    },
    {
     "data": {
      "application/vnd.jupyter.widget-view+json": {
       "model_id": "db4b0dca6cc14f0f9038ed35102dd88e",
       "version_major": 2,
       "version_minor": 0
      },
      "text/plain": [
       "  0%|          | 0/30 [00:00<?, ?it/s]"
      ]
     },
     "metadata": {},
     "output_type": "display_data"
    },
    {
     "name": "stdout",
     "output_type": "stream",
     "text": [
      "\t[VALID] LOSS: 0.0669538825750351, ACCURACY: 0.5314749479293823\n",
      "\n",
      "====================================================================================================\n",
      "EPOCH 11 - TRAINING...\n"
     ]
    },
    {
     "data": {
      "application/vnd.jupyter.widget-view+json": {
       "model_id": "58e7b8aafec44feabdda97f60edc9ca9",
       "version_major": 2,
       "version_minor": 0
      },
      "text/plain": [
       "  0%|          | 0/70 [00:00<?, ?it/s]"
      ]
     },
     "metadata": {},
     "output_type": "display_data"
    },
    {
     "name": "stdout",
     "output_type": "stream",
     "text": [
      "\n",
      "\t[TRAIN] EPOCH 11 - LOSS: 0.028470199555158615, ACCURACY: 0.5742318630218506\n",
      "\n",
      "start valid_loader\n",
      "EPOCH 11 - VALIDATING...\n"
     ]
    },
    {
     "data": {
      "application/vnd.jupyter.widget-view+json": {
       "model_id": "44b1407aff914a4c97c6f1a2e8f83bb5",
       "version_major": 2,
       "version_minor": 0
      },
      "text/plain": [
       "  0%|          | 0/30 [00:00<?, ?it/s]"
      ]
     },
     "metadata": {},
     "output_type": "display_data"
    },
    {
     "name": "stdout",
     "output_type": "stream",
     "text": [
      "\t[VALID] LOSS: 0.06916461139917374, ACCURACY: 0.5096984505653381\n",
      "\n",
      "====================================================================================================\n",
      "EPOCH 12 - TRAINING...\n"
     ]
    },
    {
     "data": {
      "application/vnd.jupyter.widget-view+json": {
       "model_id": "175e2cfbe81743259703e19f9899d237",
       "version_major": 2,
       "version_minor": 0
      },
      "text/plain": [
       "  0%|          | 0/70 [00:00<?, ?it/s]"
      ]
     },
     "metadata": {},
     "output_type": "display_data"
    },
    {
     "name": "stdout",
     "output_type": "stream",
     "text": [
      "\n",
      "\t[TRAIN] EPOCH 12 - LOSS: 0.02858595736324787, ACCURACY: 0.5763381123542786\n",
      "\n",
      "start valid_loader\n",
      "EPOCH 12 - VALIDATING...\n"
     ]
    },
    {
     "data": {
      "application/vnd.jupyter.widget-view+json": {
       "model_id": "746bad02b8b84a8cac8ea246fc48ba5d",
       "version_major": 2,
       "version_minor": 0
      },
      "text/plain": [
       "  0%|          | 0/30 [00:00<?, ?it/s]"
      ]
     },
     "metadata": {},
     "output_type": "display_data"
    },
    {
     "name": "stdout",
     "output_type": "stream",
     "text": [
      "\t[VALID] LOSS: 0.07339417189359665, ACCURACY: 0.4982953369617462\n",
      "\n",
      "====================================================================================================\n",
      "EPOCH 13 - TRAINING...\n"
     ]
    },
    {
     "data": {
      "application/vnd.jupyter.widget-view+json": {
       "model_id": "b42932b5046a4fa1a08f605738ecefaa",
       "version_major": 2,
       "version_minor": 0
      },
      "text/plain": [
       "  0%|          | 0/70 [00:00<?, ?it/s]"
      ]
     },
     "metadata": {},
     "output_type": "display_data"
    },
    {
     "name": "stdout",
     "output_type": "stream",
     "text": [
      "\n",
      "\t[TRAIN] EPOCH 13 - LOSS: 0.027902722358703613, ACCURACY: 0.5871026515960693\n",
      "\n",
      "start valid_loader\n",
      "EPOCH 13 - VALIDATING...\n"
     ]
    },
    {
     "data": {
      "application/vnd.jupyter.widget-view+json": {
       "model_id": "e5ad0a4d7d65415eb4a1c0d765dc6eb3",
       "version_major": 2,
       "version_minor": 0
      },
      "text/plain": [
       "  0%|          | 0/30 [00:00<?, ?it/s]"
      ]
     },
     "metadata": {},
     "output_type": "display_data"
    },
    {
     "name": "stdout",
     "output_type": "stream",
     "text": [
      "\t[VALID] LOSS: 0.06740722060203552, ACCURACY: 0.5348438620567322\n",
      "\n",
      "====================================================================================================\n",
      "EPOCH 14 - TRAINING...\n"
     ]
    },
    {
     "data": {
      "application/vnd.jupyter.widget-view+json": {
       "model_id": "8b795ccbc6b64085860fa0c613b8619a",
       "version_major": 2,
       "version_minor": 0
      },
      "text/plain": [
       "  0%|          | 0/70 [00:00<?, ?it/s]"
      ]
     },
     "metadata": {},
     "output_type": "display_data"
    },
    {
     "name": "stdout",
     "output_type": "stream",
     "text": [
      "\n",
      "\t[TRAIN] EPOCH 14 - LOSS: 0.027976982295513153, ACCURACY: 0.583834171295166\n",
      "\n",
      "start valid_loader\n",
      "EPOCH 14 - VALIDATING...\n"
     ]
    },
    {
     "data": {
      "application/vnd.jupyter.widget-view+json": {
       "model_id": "b641c29fa62b4425a828bcdbfd57ebda",
       "version_major": 2,
       "version_minor": 0
      },
      "text/plain": [
       "  0%|          | 0/30 [00:00<?, ?it/s]"
      ]
     },
     "metadata": {},
     "output_type": "display_data"
    },
    {
     "name": "stdout",
     "output_type": "stream",
     "text": [
      "\t[VALID] LOSS: 0.11642371118068695, ACCURACY: 0.43095165491104126\n",
      "\n",
      "====================================================================================================\n",
      "EPOCH 15 - TRAINING...\n"
     ]
    },
    {
     "data": {
      "application/vnd.jupyter.widget-view+json": {
       "model_id": "41a878a8220e4a4b96c0f64916771228",
       "version_major": 2,
       "version_minor": 0
      },
      "text/plain": [
       "  0%|          | 0/70 [00:00<?, ?it/s]"
      ]
     },
     "metadata": {},
     "output_type": "display_data"
    },
    {
     "name": "stdout",
     "output_type": "stream",
     "text": [
      "\n",
      "\t[TRAIN] EPOCH 15 - LOSS: 0.027231553569436073, ACCURACY: 0.5947747826576233\n",
      "\n",
      "start valid_loader\n",
      "EPOCH 15 - VALIDATING...\n"
     ]
    },
    {
     "data": {
      "application/vnd.jupyter.widget-view+json": {
       "model_id": "1c85181193a84515b20c53e604745821",
       "version_major": 2,
       "version_minor": 0
      },
      "text/plain": [
       "  0%|          | 0/30 [00:00<?, ?it/s]"
      ]
     },
     "metadata": {},
     "output_type": "display_data"
    },
    {
     "name": "stdout",
     "output_type": "stream",
     "text": [
      "\t[VALID] LOSS: 0.08014708012342453, ACCURACY: 0.46647751331329346\n",
      "\n",
      "====================================================================================================\n",
      "EPOCH 16 - TRAINING...\n"
     ]
    },
    {
     "data": {
      "application/vnd.jupyter.widget-view+json": {
       "model_id": "c83c54dbe97a4931888aeb28fe6c1c77",
       "version_major": 2,
       "version_minor": 0
      },
      "text/plain": [
       "  0%|          | 0/70 [00:00<?, ?it/s]"
      ]
     },
     "metadata": {},
     "output_type": "display_data"
    },
    {
     "name": "stdout",
     "output_type": "stream",
     "text": [
      "\n",
      "\t[TRAIN] EPOCH 16 - LOSS: 0.027122322469949722, ACCURACY: 0.5974717140197754\n",
      "\n",
      "start valid_loader\n",
      "EPOCH 16 - VALIDATING...\n"
     ]
    },
    {
     "data": {
      "application/vnd.jupyter.widget-view+json": {
       "model_id": "0c2a0dd6caa2416685faddbc8858e570",
       "version_major": 2,
       "version_minor": 0
      },
      "text/plain": [
       "  0%|          | 0/30 [00:00<?, ?it/s]"
      ]
     },
     "metadata": {},
     "output_type": "display_data"
    },
    {
     "name": "stdout",
     "output_type": "stream",
     "text": [
      "\t[VALID] LOSS: 0.0955878347158432, ACCURACY: 0.478969007730484\n",
      "\n",
      "====================================================================================================\n",
      "EPOCH 17 - TRAINING...\n"
     ]
    },
    {
     "data": {
      "application/vnd.jupyter.widget-view+json": {
       "model_id": "b9948ed8eb8049e792cf1e0d3ed07843",
       "version_major": 2,
       "version_minor": 0
      },
      "text/plain": [
       "  0%|          | 0/70 [00:00<?, ?it/s]"
      ]
     },
     "metadata": {},
     "output_type": "display_data"
    },
    {
     "name": "stdout",
     "output_type": "stream",
     "text": [
      "\n",
      "\t[TRAIN] EPOCH 17 - LOSS: 0.026513293385505676, ACCURACY: 0.6033851504325867\n",
      "\n",
      "start valid_loader\n",
      "EPOCH 17 - VALIDATING...\n"
     ]
    },
    {
     "data": {
      "application/vnd.jupyter.widget-view+json": {
       "model_id": "7ed6470d9b5f49188370a48cb6c414a3",
       "version_major": 2,
       "version_minor": 0
      },
      "text/plain": [
       "  0%|          | 0/30 [00:00<?, ?it/s]"
      ]
     },
     "metadata": {},
     "output_type": "display_data"
    },
    {
     "name": "stdout",
     "output_type": "stream",
     "text": [
      "\t[VALID] LOSS: 0.07789960503578186, ACCURACY: 0.5191673636436462\n",
      "\n",
      "====================================================================================================\n",
      "EPOCH 18 - TRAINING...\n"
     ]
    },
    {
     "data": {
      "application/vnd.jupyter.widget-view+json": {
       "model_id": "9d2f554eac62498aa3f578172c8eddda",
       "version_major": 2,
       "version_minor": 0
      },
      "text/plain": [
       "  0%|          | 0/70 [00:00<?, ?it/s]"
      ]
     },
     "metadata": {},
     "output_type": "display_data"
    },
    {
     "name": "stdout",
     "output_type": "stream",
     "text": [
      "\n",
      "\t[TRAIN] EPOCH 18 - LOSS: 0.025965465232729912, ACCURACY: 0.6118242144584656\n",
      "\n",
      "start valid_loader\n",
      "EPOCH 18 - VALIDATING...\n"
     ]
    },
    {
     "data": {
      "application/vnd.jupyter.widget-view+json": {
       "model_id": "731cb545e7114c8c8dff83ab6b73c722",
       "version_major": 2,
       "version_minor": 0
      },
      "text/plain": [
       "  0%|          | 0/30 [00:00<?, ?it/s]"
      ]
     },
     "metadata": {},
     "output_type": "display_data"
    },
    {
     "name": "stdout",
     "output_type": "stream",
     "text": [
      "\t[VALID] LOSS: 0.14041200280189514, ACCURACY: 0.444524347782135\n",
      "\n",
      "====================================================================================================\n",
      "EPOCH 19 - TRAINING...\n"
     ]
    },
    {
     "data": {
      "application/vnd.jupyter.widget-view+json": {
       "model_id": "59c71552f3b8410b86d70154af59abff",
       "version_major": 2,
       "version_minor": 0
      },
      "text/plain": [
       "  0%|          | 0/70 [00:00<?, ?it/s]"
      ]
     },
     "metadata": {},
     "output_type": "display_data"
    },
    {
     "name": "stdout",
     "output_type": "stream",
     "text": [
      "\n",
      "\t[TRAIN] EPOCH 19 - LOSS: 0.026194706559181213, ACCURACY: 0.6110442876815796\n",
      "\n",
      "start valid_loader\n",
      "EPOCH 19 - VALIDATING...\n"
     ]
    },
    {
     "data": {
      "application/vnd.jupyter.widget-view+json": {
       "model_id": "17b96a68c4e54b599167059cacdb9f94",
       "version_major": 2,
       "version_minor": 0
      },
      "text/plain": [
       "  0%|          | 0/30 [00:00<?, ?it/s]"
      ]
     },
     "metadata": {},
     "output_type": "display_data"
    },
    {
     "name": "stdout",
     "output_type": "stream",
     "text": [
      "\t[VALID] LOSS: 0.08681274205446243, ACCURACY: 0.4569436013698578\n",
      "\n",
      "====================================================================================================\n",
      "EPOCH 20 - TRAINING...\n"
     ]
    },
    {
     "data": {
      "application/vnd.jupyter.widget-view+json": {
       "model_id": "6b16b39a209c4396b1a4c35e23d1548f",
       "version_major": 2,
       "version_minor": 0
      },
      "text/plain": [
       "  0%|          | 0/70 [00:00<?, ?it/s]"
      ]
     },
     "metadata": {},
     "output_type": "display_data"
    },
    {
     "name": "stdout",
     "output_type": "stream",
     "text": [
      "\n",
      "\t[TRAIN] EPOCH 20 - LOSS: 0.0256623737514019, ACCURACY: 0.6178860664367676\n",
      "\n",
      "start valid_loader\n",
      "EPOCH 20 - VALIDATING...\n"
     ]
    },
    {
     "data": {
      "application/vnd.jupyter.widget-view+json": {
       "model_id": "464afa3d0dd541f8b15b5f068162b8c6",
       "version_major": 2,
       "version_minor": 0
      },
      "text/plain": [
       "  0%|          | 0/30 [00:00<?, ?it/s]"
      ]
     },
     "metadata": {},
     "output_type": "display_data"
    },
    {
     "name": "stdout",
     "output_type": "stream",
     "text": [
      "\t[VALID] LOSS: 0.10156072676181793, ACCURACY: 0.3638620376586914\n",
      "\n"
     ]
    }
   ],
   "source": [
    "name_model = 'model_tmp.pt'\n",
    "#                          model, name_model, epochs, device, criterion, optimizer, train_loader, valid_loader=None\n",
    "#mem_usage = memory_usage(( fit_tpu, (model, name_model, num_epochs, device, criterion, optimizer, train_loader, valid_loader)))\n"
   ]
  },
  {
   "cell_type": "code",
   "execution_count": 15,
   "id": "fc3c0e18",
   "metadata": {},
   "outputs": [
    {
     "name": "stdout",
     "output_type": "stream",
     "text": [
      "Maximum memory usage: 1255.4296875\n"
     ]
    }
   ],
   "source": [
    "#print('Maximum memory usage: %s' % max(mem_usage))\n"
   ]
  },
  {
   "cell_type": "code",
   "execution_count": 16,
   "id": "7d173482",
   "metadata": {},
   "outputs": [
    {
     "name": "stdout",
     "output_type": "stream",
     "text": [
      "Maximum validation accuracy: 54.61%\n"
     ]
    }
   ],
   "source": [
    "name = 'model.pt'#'model.pt'#'other.pt' \n",
    "model = torch.load(name)\n",
    "print('Maximum validation accuracy: {:.2f}%'.format(100*model.validation_acc[-1].item()))\n"
   ]
  },
  {
   "cell_type": "code",
   "execution_count": 17,
   "id": "2767f901",
   "metadata": {},
   "outputs": [
    {
     "data": {
      "image/png": "[encoded data removed]",
      "text/plain": [
       "<Figure size 1600x700 with 2 Axes>"
      ]
     },
     "metadata": {},
     "output_type": "display_data"
    }
   ],
   "source": [
    "plot_performance(model)"
   ]
  },
  {
   "cell_type": "code",
   "execution_count": null,
   "id": "80f7c814",
   "metadata": {},
   "outputs": [],
   "source": []
  }
 ],
 "metadata": {
  "kernelspec": {
   "display_name": "PyTorch",
   "language": "python",
   "name": "pytorch"
  },
  "language_info": {
   "codemirror_mode": {
    "name": "ipython",
    "version": 3
   },
   "file_extension": ".py",
   "mimetype": "text/x-python",
   "name": "python",
   "nbconvert_exporter": "python",
   "pygments_lexer": "ipython3",
   "version": "3.7.13"
  }
 },
 "nbformat": 4,
 "nbformat_minor": 5
}
